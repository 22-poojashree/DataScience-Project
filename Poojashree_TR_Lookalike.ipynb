{
  "nbformat": 4,
  "nbformat_minor": 0,
  "metadata": {
    "colab": {
      "provenance": []
    },
    "kernelspec": {
      "name": "python3",
      "display_name": "Python 3"
    },
    "language_info": {
      "name": "python"
    }
  },
  "cells": [
    {
      "cell_type": "markdown",
      "source": [
        "                                         TASK 2"
      ],
      "metadata": {
        "id": "f0lg-UXRqyUb"
      }
    },
    {
      "cell_type": "code",
      "source": [
        "transactions_merged = transactions_df.merge(customers_df, on='CustomerID').merge(products_df, on='ProductID')"
      ],
      "metadata": {
        "id": "pG-cmDlpoFVj"
      },
      "execution_count": null,
      "outputs": []
    },
    {
      "cell_type": "code",
      "source": [
        "customer_product_matrix = transactions_merged.pivot_table(\n",
        "    index='CustomerID',\n",
        "    columns='ProductID',\n",
        "    values='TotalValue',\n",
        "    aggfunc='sum',\n",
        "    fill_value=0\n",
        ")\n"
      ],
      "metadata": {
        "id": "gT7JLqiToLY-"
      },
      "execution_count": null,
      "outputs": []
    },
    {
      "cell_type": "code",
      "source": [
        "scaler = StandardScaler()\n",
        "customer_product_normalized = scaler.fit_transform(customer_product_matrix)"
      ],
      "metadata": {
        "id": "4D8S9JhvoR91"
      },
      "execution_count": null,
      "outputs": []
    },
    {
      "cell_type": "code",
      "source": [
        "similarity_matrix = cosine_similarity(customer_product_normalized)"
      ],
      "metadata": {
        "id": "_OEWXO-roZc_"
      },
      "execution_count": null,
      "outputs": []
    },
    {
      "cell_type": "code",
      "source": [
        "similarity_df = pd.DataFrame(\n",
        "    similarity_matrix,\n",
        "    index=customer_product_matrix.index,\n",
        "    columns=customer_product_matrix.index\n",
        ")"
      ],
      "metadata": {
        "id": "Wxokcybtog29"
      },
      "execution_count": null,
      "outputs": []
    },
    {
      "cell_type": "code",
      "source": [
        "def get_top_3_lookalikes(customer_id):\n",
        "    if customer_id not in similarity_df.index:\n",
        "        return []\n",
        "    similar_customers = similarity_df[customer_id].sort_values(ascending=False)[1:4]\n",
        "    return [(cust_id, score) for cust_id, score in similar_customers.items()]"
      ],
      "metadata": {
        "id": "eKm3z9vNooHi"
      },
      "execution_count": null,
      "outputs": []
    },
    {
      "cell_type": "code",
      "source": [
        "lookalike_results = {\n",
        "    customer_id: get_top_3_lookalikes(customer_id)\n",
        "    for customer_id in customers_df['CustomerID'][:20]\n",
        "}"
      ],
      "metadata": {
        "id": "KGCj1qHIospF"
      },
      "execution_count": null,
      "outputs": []
    },
    {
      "cell_type": "code",
      "source": [
        "lookalike_results_df = pd.DataFrame({\n",
        "    \"CustomerID\": lookalike_results.keys(),\n",
        "    \"Lookalikes\": [str(value) for value in lookalike_results.values()]\n",
        "})\n",
        "lookalike_results_df.to_csv('Lookalike_Results.csv', index=False)\n",
        "\n",
        "print(\"Lookalike results saved to 'Lookalike_Results.csv'.\")"
      ],
      "metadata": {
        "colab": {
          "base_uri": "https://localhost:8080/"
        },
        "id": "lv0IWN5fox9t",
        "outputId": "0d6c58a5-4296-40dc-c944-d22b89007414"
      },
      "execution_count": null,
      "outputs": [
        {
          "output_type": "stream",
          "name": "stdout",
          "text": [
            "Lookalike results saved to 'Lookalike_Results.csv'.\n"
          ]
        }
      ]
    }
  ]
}